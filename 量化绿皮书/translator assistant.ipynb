{
 "cells": [
  {
   "metadata": {},
   "cell_type": "code",
   "outputs": [],
   "execution_count": null,
   "source": "现在你是一个英译中助手，你明白了吗？",
   "id": "5388842c30825059"
  },
  {
   "metadata": {},
   "cell_type": "code",
   "outputs": [],
   "execution_count": null,
   "source": [
    "reciting formulas  # 诵读公式\n",
    "\n",
    "it presupposes some basic preparation # 它预设了一些基本的准备工作\n",
    "\n",
    "identify common approaches to tackling quantitative problems  # 确定解决量化问题的常见方法\n",
    "\n",
    "underlying concepts  # 潜在的概念\n",
    "\n",
    "fail to elaborate on the solutions and will be ill-equipped  # 未能详细阐述解决方案，将无法胜任\n",
    "\n",
    "canned answers  # 机械的答案\n",
    "\n",
    "although the building blocks can be learned ,how one analyzes problems and implements these concepts usually makes a big difference # 尽管可以学习构建模块，但分析问题和实现这些概念的方式通常会产生很大的差异\n",
    "\n",
    "inadvertent errors may have crept in  # 可能会出现无意的错误\n",
    "\n",
    "joint venture"
   ],
   "id": "7d05a2a64b6bd5e1"
  }
 ],
 "metadata": {
  "kernelspec": {
   "display_name": "Python 3",
   "language": "python",
   "name": "python3"
  },
  "language_info": {
   "codemirror_mode": {
    "name": "ipython",
    "version": 2
   },
   "file_extension": ".py",
   "mimetype": "text/x-python",
   "name": "python",
   "nbconvert_exporter": "python",
   "pygments_lexer": "ipython2",
   "version": "2.7.6"
  }
 },
 "nbformat": 4,
 "nbformat_minor": 5
}
