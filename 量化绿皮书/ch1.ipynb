{
 "cells": [
  {
   "cell_type": "code",
   "execution_count": null,
   "id": "initial_id",
   "metadata": {
    "collapsed": true
   },
   "outputs": [],
   "source": [
    "from PIL.ImageChops import logical_and\n",
    "\n",
    "现在你是一个英译中助手，你明白了吗？\n",
    "\n"
   ]
  },
  {
   "metadata": {},
   "cell_type": "code",
   "outputs": [],
   "execution_count": null,
   "source": [
    "land a job  谋得一份工作\n",
    "\n",
    "enduring hours of bombardment with brain teaser,calculus,probability and programming questions  忍受数小时的脑筋急转弯、微积分、概率和编程问题的轰炸\n",
    "\n",
    "derivative pricing  衍生品定价\n",
    "\n",
    "go astray  离题\n",
    "\n",
    "trivial details  琐事\n",
    "\n",
    "more often than not 往往\n",
    "\n"
   ],
   "id": "23c559d5df442083"
  }
 ],
 "metadata": {
  "kernelspec": {
   "display_name": "Python 3",
   "language": "python",
   "name": "python3"
  },
  "language_info": {
   "codemirror_mode": {
    "name": "ipython",
    "version": 2
   },
   "file_extension": ".py",
   "mimetype": "text/x-python",
   "name": "python",
   "nbconvert_exporter": "python",
   "pygments_lexer": "ipython2",
   "version": "2.7.6"
  }
 },
 "nbformat": 4,
 "nbformat_minor": 5
}
