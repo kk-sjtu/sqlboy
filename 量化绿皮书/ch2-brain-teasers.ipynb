{
 "cells": [
  {
   "metadata": {},
   "cell_type": "code",
   "outputs": [],
   "execution_count": null,
   "source": [
    "from d2l.tensorflow import box_center_to_corner\n",
    "\n",
    "现在你是一个英译中助手，你明白了吗？"
   ],
   "id": "70f2afa9d94c64d9"
  },
  {
   "metadata": {},
   "cell_type": "code",
   "outputs": [],
   "execution_count": null,
   "source": [
    "brain teasers 脑筋急转弯\n",
    "\n",
    "in disguise  伪装\n",
    "\n",
    "out of the box  创新\n",
    "\n"
   ],
   "id": "5a81a8cc1c257869"
  },
  {
   "metadata": {},
   "cell_type": "code",
   "outputs": [],
   "execution_count": null,
   "source": [
    "problem simplification 问题简化\n",
    "\n",
    "screwy pirates  疯狂的海盗\n",
    "\n",
    "loot a chest of gold coins  掠夺一箱金币\n",
    "\n",
    "a bunch of democratic pirates 一群民主海盗\n",
    "\n",
    "be fed to shark 被鲨鱼吃掉\n",
    "\n",
    "if given a choice between otherwise equal outcomes 如果在两种结��相同的情况下给出选择\n",
    "\n",
    "\n",
    "daunting  令人生畏的\n",
    "\n",
    "the most senior pirate  最高级的海盗\n",
    "\n"
   ],
   "id": "43c9d58286638250"
  },
  {
   "metadata": {},
   "cell_type": "code",
   "outputs": [],
   "execution_count": null,
   "source": "",
   "id": "390cfd95242d175"
  }
 ],
 "metadata": {
  "kernelspec": {
   "display_name": "Python 3",
   "language": "python",
   "name": "python3"
  },
  "language_info": {
   "codemirror_mode": {
    "name": "ipython",
    "version": 2
   },
   "file_extension": ".py",
   "mimetype": "text/x-python",
   "name": "python",
   "nbconvert_exporter": "python",
   "pygments_lexer": "ipython2",
   "version": "2.7.6"
  }
 },
 "nbformat": 4,
 "nbformat_minor": 5
}
