{
 "cells": [
  {
   "cell_type": "code",
   "execution_count": null,
   "id": "initial_id",
   "metadata": {
    "collapsed": true
   },
   "outputs": [],
   "source": ""
  },
  {
   "metadata": {},
   "cell_type": "markdown",
   "source": [
    "# 问题1 优惠券收集问题\n",
    "你可以花费1元来抽一次奖,每次抽奖可以获得n张卡集中的任意一张,而且每张被抽到的概率均等，试求出收集一套完整卡集所需开销的数学期望\n",
    "\n"
   ],
   "id": "952f635381450fdf"
  },
  {
   "metadata": {},
   "cell_type": "code",
   "outputs": [],
   "execution_count": null,
   "source": "",
   "id": "4be9c2bf608b10fd"
  },
  {
   "metadata": {},
   "cell_type": "markdown",
   "source": [
    "# 问题2 连续锻炼问题\n",
    " 小明每天有\n",
    " 的概率出来锻炼身体,求他第一次出现连续\n",
    " 天锻炼的数学期望天数"
   ],
   "id": "7ce9e73df9a66800"
  },
  {
   "metadata": {},
   "cell_type": "code",
   "outputs": [],
   "execution_count": null,
   "source": [
    "现在你是一个英译中的助手\n",
    "\n",
    "stichastic process 随机过程\n",
    "stochastic calculus 随机微积分\n",
    "vendor  供应商\n",
    "an umbrella descrition\n",
    "encompasses quantitative finance  涵盖量化金融\n",
    "\n",
    "dozens of financial engineering or\n",
    "\n",
    "distinguish yourself from the competition 使自己脱颖而出\n",
    "\n",
    "distinguish yourself from many other excellent applicants 使自己脱颖而出\n",
    "\n"
   ],
   "id": "41f35231a276d9cb"
  }
 ],
 "metadata": {
  "kernelspec": {
   "display_name": "Python 3",
   "language": "python",
   "name": "python3"
  },
  "language_info": {
   "codemirror_mode": {
    "name": "ipython",
    "version": 2
   },
   "file_extension": ".py",
   "mimetype": "text/x-python",
   "name": "python",
   "nbconvert_exporter": "python",
   "pygments_lexer": "ipython2",
   "version": "2.7.6"
  }
 },
 "nbformat": 4,
 "nbformat_minor": 5
}
